{
 "cells": [
  {
   "cell_type": "code",
   "execution_count": 1,
   "metadata": {},
   "outputs": [],
   "source": [
    "import os\n",
    "import pandas as pd\n",
    "import numpy as np"
   ]
  },
  {
   "cell_type": "code",
   "execution_count": 2,
   "metadata": {},
   "outputs": [],
   "source": [
    "df = pd.read_csv('test_files/fcsv_files/F.fcsv', skiprows=2) #Nos salteamos los primeros 2 rows para evitar fallos de lectura."
   ]
  },
  {
   "cell_type": "markdown",
   "metadata": {},
   "source": [
    "### Leemos el .fcsv"
   ]
  },
  {
   "cell_type": "code",
   "execution_count": 3,
   "metadata": {},
   "outputs": [
    {
     "data": {
      "text/html": [
       "<div>\n",
       "<style scoped>\n",
       "    .dataframe tbody tr th:only-of-type {\n",
       "        vertical-align: middle;\n",
       "    }\n",
       "\n",
       "    .dataframe tbody tr th {\n",
       "        vertical-align: top;\n",
       "    }\n",
       "\n",
       "    .dataframe thead th {\n",
       "        text-align: right;\n",
       "    }\n",
       "</style>\n",
       "<table border=\"1\" class=\"dataframe\">\n",
       "  <thead>\n",
       "    <tr style=\"text-align: right;\">\n",
       "      <th></th>\n",
       "      <th># columns = id</th>\n",
       "      <th>x</th>\n",
       "      <th>y</th>\n",
       "      <th>z</th>\n",
       "      <th>ow</th>\n",
       "      <th>ox</th>\n",
       "      <th>oy</th>\n",
       "      <th>oz</th>\n",
       "      <th>vis</th>\n",
       "      <th>sel</th>\n",
       "      <th>lock</th>\n",
       "      <th>label</th>\n",
       "      <th>desc</th>\n",
       "      <th>associatedNodeID</th>\n",
       "    </tr>\n",
       "  </thead>\n",
       "  <tbody>\n",
       "    <tr>\n",
       "      <th>0</th>\n",
       "      <td>vtkMRMLMarkupsFiducialNode_0</td>\n",
       "      <td>4.06744</td>\n",
       "      <td>124.9690</td>\n",
       "      <td>-476.645</td>\n",
       "      <td>0</td>\n",
       "      <td>0</td>\n",
       "      <td>0</td>\n",
       "      <td>1</td>\n",
       "      <td>1</td>\n",
       "      <td>1</td>\n",
       "      <td>0</td>\n",
       "      <td>F-1</td>\n",
       "      <td>NaN</td>\n",
       "      <td>vtkMRMLScalarVolumeNode1</td>\n",
       "    </tr>\n",
       "    <tr>\n",
       "      <th>1</th>\n",
       "      <td>vtkMRMLMarkupsFiducialNode_1</td>\n",
       "      <td>-40.44340</td>\n",
       "      <td>85.2121</td>\n",
       "      <td>-476.645</td>\n",
       "      <td>0</td>\n",
       "      <td>0</td>\n",
       "      <td>0</td>\n",
       "      <td>1</td>\n",
       "      <td>1</td>\n",
       "      <td>1</td>\n",
       "      <td>0</td>\n",
       "      <td>F-2</td>\n",
       "      <td>NaN</td>\n",
       "      <td>vtkMRMLScalarVolumeNode1</td>\n",
       "    </tr>\n",
       "    <tr>\n",
       "      <th>2</th>\n",
       "      <td>vtkMRMLMarkupsFiducialNode_2</td>\n",
       "      <td>48.57830</td>\n",
       "      <td>90.3978</td>\n",
       "      <td>-476.645</td>\n",
       "      <td>0</td>\n",
       "      <td>0</td>\n",
       "      <td>0</td>\n",
       "      <td>1</td>\n",
       "      <td>1</td>\n",
       "      <td>1</td>\n",
       "      <td>0</td>\n",
       "      <td>F-3</td>\n",
       "      <td>NaN</td>\n",
       "      <td>vtkMRMLScalarVolumeNode1</td>\n",
       "    </tr>\n",
       "    <tr>\n",
       "      <th>3</th>\n",
       "      <td>vtkMRMLMarkupsFiducialNode_3</td>\n",
       "      <td>-34.80860</td>\n",
       "      <td>137.5240</td>\n",
       "      <td>-386.207</td>\n",
       "      <td>0</td>\n",
       "      <td>0</td>\n",
       "      <td>0</td>\n",
       "      <td>1</td>\n",
       "      <td>1</td>\n",
       "      <td>1</td>\n",
       "      <td>0</td>\n",
       "      <td>F-4</td>\n",
       "      <td>NaN</td>\n",
       "      <td>vtkMRMLScalarVolumeNode2</td>\n",
       "    </tr>\n",
       "    <tr>\n",
       "      <th>4</th>\n",
       "      <td>vtkMRMLMarkupsFiducialNode_4</td>\n",
       "      <td>59.39580</td>\n",
       "      <td>114.5210</td>\n",
       "      <td>-386.207</td>\n",
       "      <td>0</td>\n",
       "      <td>0</td>\n",
       "      <td>0</td>\n",
       "      <td>1</td>\n",
       "      <td>1</td>\n",
       "      <td>1</td>\n",
       "      <td>0</td>\n",
       "      <td>F-5</td>\n",
       "      <td>NaN</td>\n",
       "      <td>vtkMRMLScalarVolumeNode2</td>\n",
       "    </tr>\n",
       "    <tr>\n",
       "      <th>5</th>\n",
       "      <td>vtkMRMLMarkupsFiducialNode_5</td>\n",
       "      <td>-35.90400</td>\n",
       "      <td>46.6061</td>\n",
       "      <td>-386.207</td>\n",
       "      <td>0</td>\n",
       "      <td>0</td>\n",
       "      <td>0</td>\n",
       "      <td>1</td>\n",
       "      <td>1</td>\n",
       "      <td>1</td>\n",
       "      <td>0</td>\n",
       "      <td>F-6</td>\n",
       "      <td>NaN</td>\n",
       "      <td>vtkMRMLScalarVolumeNode2</td>\n",
       "    </tr>\n",
       "    <tr>\n",
       "      <th>6</th>\n",
       "      <td>vtkMRMLMarkupsFiducialNode_6</td>\n",
       "      <td>38.03550</td>\n",
       "      <td>37.8429</td>\n",
       "      <td>-386.207</td>\n",
       "      <td>0</td>\n",
       "      <td>0</td>\n",
       "      <td>0</td>\n",
       "      <td>1</td>\n",
       "      <td>1</td>\n",
       "      <td>1</td>\n",
       "      <td>0</td>\n",
       "      <td>F-7</td>\n",
       "      <td>NaN</td>\n",
       "      <td>vtkMRMLScalarVolumeNode2</td>\n",
       "    </tr>\n",
       "  </tbody>\n",
       "</table>\n",
       "</div>"
      ],
      "text/plain": [
       "                 # columns = id         x         y        z  ow  ox  oy  oz  \\\n",
       "0  vtkMRMLMarkupsFiducialNode_0   4.06744  124.9690 -476.645   0   0   0   1   \n",
       "1  vtkMRMLMarkupsFiducialNode_1 -40.44340   85.2121 -476.645   0   0   0   1   \n",
       "2  vtkMRMLMarkupsFiducialNode_2  48.57830   90.3978 -476.645   0   0   0   1   \n",
       "3  vtkMRMLMarkupsFiducialNode_3 -34.80860  137.5240 -386.207   0   0   0   1   \n",
       "4  vtkMRMLMarkupsFiducialNode_4  59.39580  114.5210 -386.207   0   0   0   1   \n",
       "5  vtkMRMLMarkupsFiducialNode_5 -35.90400   46.6061 -386.207   0   0   0   1   \n",
       "6  vtkMRMLMarkupsFiducialNode_6  38.03550   37.8429 -386.207   0   0   0   1   \n",
       "\n",
       "   vis  sel  lock label  desc          associatedNodeID  \n",
       "0    1    1     0   F-1   NaN  vtkMRMLScalarVolumeNode1  \n",
       "1    1    1     0   F-2   NaN  vtkMRMLScalarVolumeNode1  \n",
       "2    1    1     0   F-3   NaN  vtkMRMLScalarVolumeNode1  \n",
       "3    1    1     0   F-4   NaN  vtkMRMLScalarVolumeNode2  \n",
       "4    1    1     0   F-5   NaN  vtkMRMLScalarVolumeNode2  \n",
       "5    1    1     0   F-6   NaN  vtkMRMLScalarVolumeNode2  \n",
       "6    1    1     0   F-7   NaN  vtkMRMLScalarVolumeNode2  "
      ]
     },
     "execution_count": 3,
     "metadata": {},
     "output_type": "execute_result"
    }
   ],
   "source": [
    "df"
   ]
  },
  {
   "cell_type": "markdown",
   "metadata": {},
   "source": [
    "### Le damos otro formato (tps ish)"
   ]
  },
  {
   "cell_type": "code",
   "execution_count": 4,
   "metadata": {},
   "outputs": [],
   "source": [
    "tps = df[df.columns[[1, 2, 3, -3, -1]]]"
   ]
  },
  {
   "cell_type": "code",
   "execution_count": 5,
   "metadata": {},
   "outputs": [],
   "source": [
    "tps.columns = [\"x\", \"y\", \"z\", \"label\", \"individuo\"]"
   ]
  },
  {
   "cell_type": "code",
   "execution_count": 6,
   "metadata": {},
   "outputs": [
    {
     "name": "stderr",
     "output_type": "stream",
     "text": [
      "/home/bruno/Envs/ml-tools/lib/python3.7/site-packages/ipykernel_launcher.py:2: SettingWithCopyWarning: \n",
      "A value is trying to be set on a copy of a slice from a DataFrame.\n",
      "Try using .loc[row_indexer,col_indexer] = value instead\n",
      "\n",
      "See the caveats in the documentation: http://pandas.pydata.org/pandas-docs/stable/indexing.html#indexing-view-versus-copy\n",
      "  \n"
     ]
    }
   ],
   "source": [
    "individuos = [i[-1] for i in tps['individuo']]\n",
    "tps['individuo'] = individuos"
   ]
  },
  {
   "cell_type": "code",
   "execution_count": 7,
   "metadata": {},
   "outputs": [
    {
     "data": {
      "text/html": [
       "<div>\n",
       "<style scoped>\n",
       "    .dataframe tbody tr th:only-of-type {\n",
       "        vertical-align: middle;\n",
       "    }\n",
       "\n",
       "    .dataframe tbody tr th {\n",
       "        vertical-align: top;\n",
       "    }\n",
       "\n",
       "    .dataframe thead th {\n",
       "        text-align: right;\n",
       "    }\n",
       "</style>\n",
       "<table border=\"1\" class=\"dataframe\">\n",
       "  <thead>\n",
       "    <tr style=\"text-align: right;\">\n",
       "      <th></th>\n",
       "      <th>x</th>\n",
       "      <th>y</th>\n",
       "      <th>z</th>\n",
       "      <th>label</th>\n",
       "      <th>individuo</th>\n",
       "    </tr>\n",
       "  </thead>\n",
       "  <tbody>\n",
       "    <tr>\n",
       "      <th>0</th>\n",
       "      <td>4.06744</td>\n",
       "      <td>124.9690</td>\n",
       "      <td>-476.645</td>\n",
       "      <td>F-1</td>\n",
       "      <td>1</td>\n",
       "    </tr>\n",
       "    <tr>\n",
       "      <th>1</th>\n",
       "      <td>-40.44340</td>\n",
       "      <td>85.2121</td>\n",
       "      <td>-476.645</td>\n",
       "      <td>F-2</td>\n",
       "      <td>1</td>\n",
       "    </tr>\n",
       "    <tr>\n",
       "      <th>2</th>\n",
       "      <td>48.57830</td>\n",
       "      <td>90.3978</td>\n",
       "      <td>-476.645</td>\n",
       "      <td>F-3</td>\n",
       "      <td>1</td>\n",
       "    </tr>\n",
       "    <tr>\n",
       "      <th>3</th>\n",
       "      <td>-34.80860</td>\n",
       "      <td>137.5240</td>\n",
       "      <td>-386.207</td>\n",
       "      <td>F-4</td>\n",
       "      <td>2</td>\n",
       "    </tr>\n",
       "    <tr>\n",
       "      <th>4</th>\n",
       "      <td>59.39580</td>\n",
       "      <td>114.5210</td>\n",
       "      <td>-386.207</td>\n",
       "      <td>F-5</td>\n",
       "      <td>2</td>\n",
       "    </tr>\n",
       "    <tr>\n",
       "      <th>5</th>\n",
       "      <td>-35.90400</td>\n",
       "      <td>46.6061</td>\n",
       "      <td>-386.207</td>\n",
       "      <td>F-6</td>\n",
       "      <td>2</td>\n",
       "    </tr>\n",
       "    <tr>\n",
       "      <th>6</th>\n",
       "      <td>38.03550</td>\n",
       "      <td>37.8429</td>\n",
       "      <td>-386.207</td>\n",
       "      <td>F-7</td>\n",
       "      <td>2</td>\n",
       "    </tr>\n",
       "  </tbody>\n",
       "</table>\n",
       "</div>"
      ],
      "text/plain": [
       "          x         y        z label individuo\n",
       "0   4.06744  124.9690 -476.645   F-1         1\n",
       "1 -40.44340   85.2121 -476.645   F-2         1\n",
       "2  48.57830   90.3978 -476.645   F-3         1\n",
       "3 -34.80860  137.5240 -386.207   F-4         2\n",
       "4  59.39580  114.5210 -386.207   F-5         2\n",
       "5 -35.90400   46.6061 -386.207   F-6         2\n",
       "6  38.03550   37.8429 -386.207   F-7         2"
      ]
     },
     "execution_count": 7,
     "metadata": {},
     "output_type": "execute_result"
    }
   ],
   "source": [
    "tps"
   ]
  },
  {
   "cell_type": "code",
   "execution_count": 8,
   "metadata": {},
   "outputs": [],
   "source": [
    "tps = tps[tps.columns[[-1, 0, 1, 2, 3]]]"
   ]
  },
  {
   "cell_type": "code",
   "execution_count": 9,
   "metadata": {},
   "outputs": [
    {
     "data": {
      "text/html": [
       "<div>\n",
       "<style scoped>\n",
       "    .dataframe tbody tr th:only-of-type {\n",
       "        vertical-align: middle;\n",
       "    }\n",
       "\n",
       "    .dataframe tbody tr th {\n",
       "        vertical-align: top;\n",
       "    }\n",
       "\n",
       "    .dataframe thead th {\n",
       "        text-align: right;\n",
       "    }\n",
       "</style>\n",
       "<table border=\"1\" class=\"dataframe\">\n",
       "  <thead>\n",
       "    <tr style=\"text-align: right;\">\n",
       "      <th></th>\n",
       "      <th>individuo</th>\n",
       "      <th>x</th>\n",
       "      <th>y</th>\n",
       "      <th>z</th>\n",
       "      <th>label</th>\n",
       "    </tr>\n",
       "  </thead>\n",
       "  <tbody>\n",
       "    <tr>\n",
       "      <th>0</th>\n",
       "      <td>1</td>\n",
       "      <td>4.06744</td>\n",
       "      <td>124.9690</td>\n",
       "      <td>-476.645</td>\n",
       "      <td>F-1</td>\n",
       "    </tr>\n",
       "    <tr>\n",
       "      <th>1</th>\n",
       "      <td>1</td>\n",
       "      <td>-40.44340</td>\n",
       "      <td>85.2121</td>\n",
       "      <td>-476.645</td>\n",
       "      <td>F-2</td>\n",
       "    </tr>\n",
       "    <tr>\n",
       "      <th>2</th>\n",
       "      <td>1</td>\n",
       "      <td>48.57830</td>\n",
       "      <td>90.3978</td>\n",
       "      <td>-476.645</td>\n",
       "      <td>F-3</td>\n",
       "    </tr>\n",
       "    <tr>\n",
       "      <th>3</th>\n",
       "      <td>2</td>\n",
       "      <td>-34.80860</td>\n",
       "      <td>137.5240</td>\n",
       "      <td>-386.207</td>\n",
       "      <td>F-4</td>\n",
       "    </tr>\n",
       "    <tr>\n",
       "      <th>4</th>\n",
       "      <td>2</td>\n",
       "      <td>59.39580</td>\n",
       "      <td>114.5210</td>\n",
       "      <td>-386.207</td>\n",
       "      <td>F-5</td>\n",
       "    </tr>\n",
       "    <tr>\n",
       "      <th>5</th>\n",
       "      <td>2</td>\n",
       "      <td>-35.90400</td>\n",
       "      <td>46.6061</td>\n",
       "      <td>-386.207</td>\n",
       "      <td>F-6</td>\n",
       "    </tr>\n",
       "    <tr>\n",
       "      <th>6</th>\n",
       "      <td>2</td>\n",
       "      <td>38.03550</td>\n",
       "      <td>37.8429</td>\n",
       "      <td>-386.207</td>\n",
       "      <td>F-7</td>\n",
       "    </tr>\n",
       "  </tbody>\n",
       "</table>\n",
       "</div>"
      ],
      "text/plain": [
       "  individuo         x         y        z label\n",
       "0         1   4.06744  124.9690 -476.645   F-1\n",
       "1         1 -40.44340   85.2121 -476.645   F-2\n",
       "2         1  48.57830   90.3978 -476.645   F-3\n",
       "3         2 -34.80860  137.5240 -386.207   F-4\n",
       "4         2  59.39580  114.5210 -386.207   F-5\n",
       "5         2 -35.90400   46.6061 -386.207   F-6\n",
       "6         2  38.03550   37.8429 -386.207   F-7"
      ]
     },
     "execution_count": 9,
     "metadata": {},
     "output_type": "execute_result"
    }
   ],
   "source": [
    "tps"
   ]
  },
  {
   "cell_type": "code",
   "execution_count": null,
   "metadata": {},
   "outputs": [],
   "source": []
  },
  {
   "cell_type": "markdown",
   "metadata": {},
   "source": [
    "### Formato MorphoJ (ish)"
   ]
  },
  {
   "cell_type": "code",
   "execution_count": 10,
   "metadata": {},
   "outputs": [],
   "source": [
    "individuos = tps['individuo'].unique()\n",
    "landmarks_x_individuo = [0 for _ in range(len(individuos))]"
   ]
  },
  {
   "cell_type": "code",
   "execution_count": 11,
   "metadata": {},
   "outputs": [],
   "source": [
    "for i in tps['individuo']:\n",
    "    for u in individuos:\n",
    "        if int(i) == int(u):\n",
    "            landmarks_x_individuo[int(u)-1] += 1"
   ]
  },
  {
   "cell_type": "code",
   "execution_count": 12,
   "metadata": {},
   "outputs": [
    {
     "data": {
      "text/plain": [
       "[3, 4]"
      ]
     },
     "execution_count": 12,
     "metadata": {},
     "output_type": "execute_result"
    }
   ],
   "source": [
    "landmarks_x_individuo"
   ]
  },
  {
   "cell_type": "markdown",
   "metadata": {},
   "source": [
    "### Individuo 1 -> 3 landmarks, individuo 2 -> 4"
   ]
  },
  {
   "cell_type": "code",
   "execution_count": 13,
   "metadata": {},
   "outputs": [],
   "source": [
    "def crear_columnas(hm=1):\n",
    "    template = ['x', 'y', 'z']\n",
    "    columnas = []\n",
    "    for i in range(hm):\n",
    "        columnas.append(template[0]+str(i+1)) #new x\n",
    "        columnas.append(template[1]+str(i+1)) #new y\n",
    "        columnas.append(template[2]+str(i+1)) #new z\n",
    "    return columnas"
   ]
  },
  {
   "cell_type": "code",
   "execution_count": 14,
   "metadata": {},
   "outputs": [],
   "source": [
    "nuevas_columnas = crear_columnas(max(landmarks_x_individuo))"
   ]
  },
  {
   "cell_type": "code",
   "execution_count": 15,
   "metadata": {},
   "outputs": [
    {
     "data": {
      "text/plain": [
       "['x1', 'y1', 'z1', 'x2', 'y2', 'z2', 'x3', 'y3', 'z3', 'x4', 'y4', 'z4']"
      ]
     },
     "execution_count": 15,
     "metadata": {},
     "output_type": "execute_result"
    }
   ],
   "source": [
    "nuevas_columnas"
   ]
  },
  {
   "cell_type": "code",
   "execution_count": 16,
   "metadata": {},
   "outputs": [],
   "source": [
    "def concatenar_landmarks(landmarks):\n",
    "    data = {}\n",
    "    for r in landmarks.values: #r = row\n",
    "        ind = r[0]\n",
    "        new_coords = r[1:-1].tolist()\n",
    "        if ind in data.keys():\n",
    "            coords = np.array(data[ind]).tolist()\n",
    "            coords.extend(new_coords)\n",
    "            new_coords = coords\n",
    "        data.update({ind: np.array(new_coords)})\n",
    "    return [v.tolist() for v in data.values()]"
   ]
  },
  {
   "cell_type": "code",
   "execution_count": 17,
   "metadata": {},
   "outputs": [],
   "source": [
    "morphoj = pd.DataFrame(data=concatenar_landmarks(tps), columns=nuevas_columnas)"
   ]
  },
  {
   "cell_type": "code",
   "execution_count": 18,
   "metadata": {},
   "outputs": [
    {
     "data": {
      "text/html": [
       "<div>\n",
       "<style scoped>\n",
       "    .dataframe tbody tr th:only-of-type {\n",
       "        vertical-align: middle;\n",
       "    }\n",
       "\n",
       "    .dataframe tbody tr th {\n",
       "        vertical-align: top;\n",
       "    }\n",
       "\n",
       "    .dataframe thead th {\n",
       "        text-align: right;\n",
       "    }\n",
       "</style>\n",
       "<table border=\"1\" class=\"dataframe\">\n",
       "  <thead>\n",
       "    <tr style=\"text-align: right;\">\n",
       "      <th></th>\n",
       "      <th>x1</th>\n",
       "      <th>y1</th>\n",
       "      <th>z1</th>\n",
       "      <th>x2</th>\n",
       "      <th>y2</th>\n",
       "      <th>z2</th>\n",
       "      <th>x3</th>\n",
       "      <th>y3</th>\n",
       "      <th>z3</th>\n",
       "      <th>x4</th>\n",
       "      <th>y4</th>\n",
       "      <th>z4</th>\n",
       "    </tr>\n",
       "  </thead>\n",
       "  <tbody>\n",
       "    <tr>\n",
       "      <th>0</th>\n",
       "      <td>4.06744</td>\n",
       "      <td>124.969</td>\n",
       "      <td>-476.645</td>\n",
       "      <td>-40.4434</td>\n",
       "      <td>85.2121</td>\n",
       "      <td>-476.645</td>\n",
       "      <td>48.5783</td>\n",
       "      <td>90.3978</td>\n",
       "      <td>-476.645</td>\n",
       "      <td>NaN</td>\n",
       "      <td>NaN</td>\n",
       "      <td>NaN</td>\n",
       "    </tr>\n",
       "    <tr>\n",
       "      <th>1</th>\n",
       "      <td>-34.80860</td>\n",
       "      <td>137.524</td>\n",
       "      <td>-386.207</td>\n",
       "      <td>59.3958</td>\n",
       "      <td>114.5210</td>\n",
       "      <td>-386.207</td>\n",
       "      <td>-35.9040</td>\n",
       "      <td>46.6061</td>\n",
       "      <td>-386.207</td>\n",
       "      <td>38.0355</td>\n",
       "      <td>37.8429</td>\n",
       "      <td>-386.207</td>\n",
       "    </tr>\n",
       "  </tbody>\n",
       "</table>\n",
       "</div>"
      ],
      "text/plain": [
       "         x1       y1       z1       x2        y2       z2       x3       y3  \\\n",
       "0   4.06744  124.969 -476.645 -40.4434   85.2121 -476.645  48.5783  90.3978   \n",
       "1 -34.80860  137.524 -386.207  59.3958  114.5210 -386.207 -35.9040  46.6061   \n",
       "\n",
       "        z3       x4       y4       z4  \n",
       "0 -476.645      NaN      NaN      NaN  \n",
       "1 -386.207  38.0355  37.8429 -386.207  "
      ]
     },
     "execution_count": 18,
     "metadata": {},
     "output_type": "execute_result"
    }
   ],
   "source": [
    "morphoj"
   ]
  },
  {
   "cell_type": "markdown",
   "metadata": {},
   "source": [
    "### Refactorizamos la concatenación"
   ]
  },
  {
   "cell_type": "code",
   "execution_count": 19,
   "metadata": {},
   "outputs": [],
   "source": [
    "def concatenar_landmarks2(landmarks, individuos_ids):\n",
    "    coords = []\n",
    "    for i in individuos_ids:\n",
    "        coords.append(landmarks[['x','y','z']][landmarks['individuo']==str(i)].values.flatten().tolist())\n",
    "    return coords"
   ]
  },
  {
   "cell_type": "code",
   "execution_count": 20,
   "metadata": {},
   "outputs": [],
   "source": [
    "morphoj = pd.DataFrame(data=concatenar_landmarks2(tps, individuos), columns=nuevas_columnas)"
   ]
  },
  {
   "cell_type": "code",
   "execution_count": 21,
   "metadata": {},
   "outputs": [
    {
     "data": {
      "text/html": [
       "<div>\n",
       "<style scoped>\n",
       "    .dataframe tbody tr th:only-of-type {\n",
       "        vertical-align: middle;\n",
       "    }\n",
       "\n",
       "    .dataframe tbody tr th {\n",
       "        vertical-align: top;\n",
       "    }\n",
       "\n",
       "    .dataframe thead th {\n",
       "        text-align: right;\n",
       "    }\n",
       "</style>\n",
       "<table border=\"1\" class=\"dataframe\">\n",
       "  <thead>\n",
       "    <tr style=\"text-align: right;\">\n",
       "      <th></th>\n",
       "      <th>x1</th>\n",
       "      <th>y1</th>\n",
       "      <th>z1</th>\n",
       "      <th>x2</th>\n",
       "      <th>y2</th>\n",
       "      <th>z2</th>\n",
       "      <th>x3</th>\n",
       "      <th>y3</th>\n",
       "      <th>z3</th>\n",
       "      <th>x4</th>\n",
       "      <th>y4</th>\n",
       "      <th>z4</th>\n",
       "    </tr>\n",
       "  </thead>\n",
       "  <tbody>\n",
       "    <tr>\n",
       "      <th>0</th>\n",
       "      <td>4.06744</td>\n",
       "      <td>124.969</td>\n",
       "      <td>-476.645</td>\n",
       "      <td>-40.4434</td>\n",
       "      <td>85.2121</td>\n",
       "      <td>-476.645</td>\n",
       "      <td>48.5783</td>\n",
       "      <td>90.3978</td>\n",
       "      <td>-476.645</td>\n",
       "      <td>NaN</td>\n",
       "      <td>NaN</td>\n",
       "      <td>NaN</td>\n",
       "    </tr>\n",
       "    <tr>\n",
       "      <th>1</th>\n",
       "      <td>-34.80860</td>\n",
       "      <td>137.524</td>\n",
       "      <td>-386.207</td>\n",
       "      <td>59.3958</td>\n",
       "      <td>114.5210</td>\n",
       "      <td>-386.207</td>\n",
       "      <td>-35.9040</td>\n",
       "      <td>46.6061</td>\n",
       "      <td>-386.207</td>\n",
       "      <td>38.0355</td>\n",
       "      <td>37.8429</td>\n",
       "      <td>-386.207</td>\n",
       "    </tr>\n",
       "  </tbody>\n",
       "</table>\n",
       "</div>"
      ],
      "text/plain": [
       "         x1       y1       z1       x2        y2       z2       x3       y3  \\\n",
       "0   4.06744  124.969 -476.645 -40.4434   85.2121 -476.645  48.5783  90.3978   \n",
       "1 -34.80860  137.524 -386.207  59.3958  114.5210 -386.207 -35.9040  46.6061   \n",
       "\n",
       "        z3       x4       y4       z4  \n",
       "0 -476.645      NaN      NaN      NaN  \n",
       "1 -386.207  38.0355  37.8429 -386.207  "
      ]
     },
     "execution_count": 21,
     "metadata": {},
     "output_type": "execute_result"
    }
   ],
   "source": [
    "morphoj"
   ]
  },
  {
   "cell_type": "code",
   "execution_count": null,
   "metadata": {},
   "outputs": [],
   "source": []
  },
  {
   "cell_type": "markdown",
   "metadata": {},
   "source": [
    "### Repitiendo el proceso para archivos .pts (raw from Landmark)"
   ]
  },
  {
   "cell_type": "markdown",
   "metadata": {},
   "source": [
    "##### Con un solo archivo"
   ]
  },
  {
   "cell_type": "code",
   "execution_count": 22,
   "metadata": {},
   "outputs": [],
   "source": [
    "pts325 = pd.read_csv('test_files/pts_files/325.pts', skiprows=1, delim_whitespace=True).reset_index()"
   ]
  },
  {
   "cell_type": "code",
   "execution_count": 23,
   "metadata": {},
   "outputs": [
    {
     "data": {
      "text/html": [
       "<div>\n",
       "<style scoped>\n",
       "    .dataframe tbody tr th:only-of-type {\n",
       "        vertical-align: middle;\n",
       "    }\n",
       "\n",
       "    .dataframe tbody tr th {\n",
       "        vertical-align: top;\n",
       "    }\n",
       "\n",
       "    .dataframe thead th {\n",
       "        text-align: right;\n",
       "    }\n",
       "</style>\n",
       "<table border=\"1\" class=\"dataframe\">\n",
       "  <thead>\n",
       "    <tr style=\"text-align: right;\">\n",
       "      <th></th>\n",
       "      <th>level_0</th>\n",
       "      <th>level_1</th>\n",
       "      <th>level_2</th>\n",
       "      <th>41</th>\n",
       "    </tr>\n",
       "  </thead>\n",
       "  <tbody>\n",
       "    <tr>\n",
       "      <th>0</th>\n",
       "      <td>S000</td>\n",
       "      <td>5.324964</td>\n",
       "      <td>4.245402</td>\n",
       "      <td>35.801582</td>\n",
       "    </tr>\n",
       "    <tr>\n",
       "      <th>1</th>\n",
       "      <td>S001</td>\n",
       "      <td>5.151456</td>\n",
       "      <td>-29.399679</td>\n",
       "      <td>52.296288</td>\n",
       "    </tr>\n",
       "    <tr>\n",
       "      <th>2</th>\n",
       "      <td>S002</td>\n",
       "      <td>5.359242</td>\n",
       "      <td>-35.592625</td>\n",
       "      <td>48.947098</td>\n",
       "    </tr>\n",
       "    <tr>\n",
       "      <th>3</th>\n",
       "      <td>S003</td>\n",
       "      <td>6.382361</td>\n",
       "      <td>-40.913445</td>\n",
       "      <td>37.293526</td>\n",
       "    </tr>\n",
       "    <tr>\n",
       "      <th>4</th>\n",
       "      <td>S004</td>\n",
       "      <td>23.533340</td>\n",
       "      <td>-32.111774</td>\n",
       "      <td>34.557816</td>\n",
       "    </tr>\n",
       "  </tbody>\n",
       "</table>\n",
       "</div>"
      ],
      "text/plain": [
       "  level_0    level_1    level_2         41\n",
       "0    S000   5.324964   4.245402  35.801582\n",
       "1    S001   5.151456 -29.399679  52.296288\n",
       "2    S002   5.359242 -35.592625  48.947098\n",
       "3    S003   6.382361 -40.913445  37.293526\n",
       "4    S004  23.533340 -32.111774  34.557816"
      ]
     },
     "execution_count": 23,
     "metadata": {},
     "output_type": "execute_result"
    }
   ],
   "source": [
    "pts325.head()"
   ]
  },
  {
   "cell_type": "code",
   "execution_count": 24,
   "metadata": {},
   "outputs": [],
   "source": [
    "colnames = pts325.columns\n",
    "pts325 = pts325.rename(index=str, columns={colnames[0]:\"landmark_id\", colnames[1]: \"x\", colnames[2]: \"y\", colnames[3]: \"z\"})"
   ]
  },
  {
   "cell_type": "code",
   "execution_count": 25,
   "metadata": {},
   "outputs": [],
   "source": [
    "col_ind = [\"325\" for _ in range(pts325.shape[0])] # llena una columna con el id del individuo"
   ]
  },
  {
   "cell_type": "code",
   "execution_count": 26,
   "metadata": {},
   "outputs": [],
   "source": [
    "pts325 = pts325.assign(individuo=pd.Series(col_ind).values)"
   ]
  },
  {
   "cell_type": "code",
   "execution_count": 27,
   "metadata": {},
   "outputs": [],
   "source": [
    "new_order = [-1, 0, 1, 2, 3]\n",
    "pts325 = pts325[pts325.columns[new_order]]"
   ]
  },
  {
   "cell_type": "code",
   "execution_count": 28,
   "metadata": {},
   "outputs": [
    {
     "data": {
      "text/html": [
       "<div>\n",
       "<style scoped>\n",
       "    .dataframe tbody tr th:only-of-type {\n",
       "        vertical-align: middle;\n",
       "    }\n",
       "\n",
       "    .dataframe tbody tr th {\n",
       "        vertical-align: top;\n",
       "    }\n",
       "\n",
       "    .dataframe thead th {\n",
       "        text-align: right;\n",
       "    }\n",
       "</style>\n",
       "<table border=\"1\" class=\"dataframe\">\n",
       "  <thead>\n",
       "    <tr style=\"text-align: right;\">\n",
       "      <th></th>\n",
       "      <th>individuo</th>\n",
       "      <th>landmark_id</th>\n",
       "      <th>x</th>\n",
       "      <th>y</th>\n",
       "      <th>z</th>\n",
       "    </tr>\n",
       "  </thead>\n",
       "  <tbody>\n",
       "    <tr>\n",
       "      <th>0</th>\n",
       "      <td>325</td>\n",
       "      <td>S000</td>\n",
       "      <td>5.324964</td>\n",
       "      <td>4.245402</td>\n",
       "      <td>35.801582</td>\n",
       "    </tr>\n",
       "    <tr>\n",
       "      <th>1</th>\n",
       "      <td>325</td>\n",
       "      <td>S001</td>\n",
       "      <td>5.151456</td>\n",
       "      <td>-29.399679</td>\n",
       "      <td>52.296288</td>\n",
       "    </tr>\n",
       "    <tr>\n",
       "      <th>2</th>\n",
       "      <td>325</td>\n",
       "      <td>S002</td>\n",
       "      <td>5.359242</td>\n",
       "      <td>-35.592625</td>\n",
       "      <td>48.947098</td>\n",
       "    </tr>\n",
       "    <tr>\n",
       "      <th>3</th>\n",
       "      <td>325</td>\n",
       "      <td>S003</td>\n",
       "      <td>6.382361</td>\n",
       "      <td>-40.913445</td>\n",
       "      <td>37.293526</td>\n",
       "    </tr>\n",
       "    <tr>\n",
       "      <th>4</th>\n",
       "      <td>325</td>\n",
       "      <td>S004</td>\n",
       "      <td>23.533340</td>\n",
       "      <td>-32.111774</td>\n",
       "      <td>34.557816</td>\n",
       "    </tr>\n",
       "  </tbody>\n",
       "</table>\n",
       "</div>"
      ],
      "text/plain": [
       "  individuo landmark_id          x          y          z\n",
       "0       325        S000   5.324964   4.245402  35.801582\n",
       "1       325        S001   5.151456 -29.399679  52.296288\n",
       "2       325        S002   5.359242 -35.592625  48.947098\n",
       "3       325        S003   6.382361 -40.913445  37.293526\n",
       "4       325        S004  23.533340 -32.111774  34.557816"
      ]
     },
     "execution_count": 28,
     "metadata": {},
     "output_type": "execute_result"
    }
   ],
   "source": [
    "pts325.head()"
   ]
  },
  {
   "cell_type": "code",
   "execution_count": null,
   "metadata": {},
   "outputs": [],
   "source": []
  },
  {
   "cell_type": "code",
   "execution_count": 29,
   "metadata": {},
   "outputs": [],
   "source": [
    "nuevas_columnas = crear_columnas(pts325.shape[0])"
   ]
  },
  {
   "cell_type": "code",
   "execution_count": 30,
   "metadata": {},
   "outputs": [],
   "source": [
    "morphoj2 = pd.DataFrame(data=concatenar_landmarks2(pts325, ['325']), columns=nuevas_columnas)"
   ]
  },
  {
   "cell_type": "code",
   "execution_count": 31,
   "metadata": {},
   "outputs": [
    {
     "data": {
      "text/html": [
       "<div>\n",
       "<style scoped>\n",
       "    .dataframe tbody tr th:only-of-type {\n",
       "        vertical-align: middle;\n",
       "    }\n",
       "\n",
       "    .dataframe tbody tr th {\n",
       "        vertical-align: top;\n",
       "    }\n",
       "\n",
       "    .dataframe thead th {\n",
       "        text-align: right;\n",
       "    }\n",
       "</style>\n",
       "<table border=\"1\" class=\"dataframe\">\n",
       "  <thead>\n",
       "    <tr style=\"text-align: right;\">\n",
       "      <th></th>\n",
       "      <th>x1</th>\n",
       "      <th>y1</th>\n",
       "      <th>z1</th>\n",
       "      <th>x2</th>\n",
       "      <th>y2</th>\n",
       "      <th>z2</th>\n",
       "      <th>x3</th>\n",
       "      <th>y3</th>\n",
       "      <th>z3</th>\n",
       "      <th>x4</th>\n",
       "      <th>...</th>\n",
       "      <th>z38</th>\n",
       "      <th>x39</th>\n",
       "      <th>y39</th>\n",
       "      <th>z39</th>\n",
       "      <th>x40</th>\n",
       "      <th>y40</th>\n",
       "      <th>z40</th>\n",
       "      <th>x41</th>\n",
       "      <th>y41</th>\n",
       "      <th>z41</th>\n",
       "    </tr>\n",
       "  </thead>\n",
       "  <tbody>\n",
       "    <tr>\n",
       "      <th>0</th>\n",
       "      <td>5.324964</td>\n",
       "      <td>4.245402</td>\n",
       "      <td>35.801582</td>\n",
       "      <td>5.151456</td>\n",
       "      <td>-29.399679</td>\n",
       "      <td>52.296288</td>\n",
       "      <td>5.359242</td>\n",
       "      <td>-35.592625</td>\n",
       "      <td>48.947098</td>\n",
       "      <td>6.382361</td>\n",
       "      <td>...</td>\n",
       "      <td>37.209084</td>\n",
       "      <td>-18.262831</td>\n",
       "      <td>-63.694931</td>\n",
       "      <td>21.245277</td>\n",
       "      <td>6.577489</td>\n",
       "      <td>-62.049553</td>\n",
       "      <td>33.207909</td>\n",
       "      <td>6.926522</td>\n",
       "      <td>-63.667809</td>\n",
       "      <td>34.941536</td>\n",
       "    </tr>\n",
       "  </tbody>\n",
       "</table>\n",
       "<p>1 rows × 123 columns</p>\n",
       "</div>"
      ],
      "text/plain": [
       "         x1        y1         z1        x2         y2         z2        x3  \\\n",
       "0  5.324964  4.245402  35.801582  5.151456 -29.399679  52.296288  5.359242   \n",
       "\n",
       "          y3         z3        x4    ...            z38        x39        y39  \\\n",
       "0 -35.592625  48.947098  6.382361    ...      37.209084 -18.262831 -63.694931   \n",
       "\n",
       "         z39       x40        y40        z40       x41        y41        z41  \n",
       "0  21.245277  6.577489 -62.049553  33.207909  6.926522 -63.667809  34.941536  \n",
       "\n",
       "[1 rows x 123 columns]"
      ]
     },
     "execution_count": 31,
     "metadata": {},
     "output_type": "execute_result"
    }
   ],
   "source": [
    "morphoj2"
   ]
  },
  {
   "cell_type": "code",
   "execution_count": null,
   "metadata": {},
   "outputs": [],
   "source": []
  },
  {
   "cell_type": "code",
   "execution_count": 32,
   "metadata": {},
   "outputs": [],
   "source": [
    "def concatenar_landmarks3(landmarks, individuo):\n",
    "    coords = [individuo]\n",
    "    coords.extend(landmarks[['x','y','z']][landmarks['individual']==str(individuo)].values.flatten().tolist())\n",
    "    return [coords]"
   ]
  },
  {
   "cell_type": "code",
   "execution_count": null,
   "metadata": {},
   "outputs": [],
   "source": []
  },
  {
   "cell_type": "code",
   "execution_count": 33,
   "metadata": {},
   "outputs": [],
   "source": [
    "def process_pts_files(base_path, fnames, out_name):\n",
    "    data = None\n",
    "    for fname in fnames:\n",
    "        if '.pts' in fname:\n",
    "            #preprocesamiento\n",
    "            individual = fname.split('.pts')[0].split('/')[-1] #obtenemos el nombre del individuo en base al nombre\n",
    "            f = pd.read_csv(base_path+fname, skiprows=1, delim_whitespace=True).reset_index() #lee el archivo pts -> es necesario renombrar las columnas de datos\n",
    "            col_names = f.columns\n",
    "            f = f.rename(index=str, columns={col_names[0]:\"landmark_id\", col_names[1]: \"x\", col_names[2]: \"y\", col_names[3]: \"z\"}) #renombramos las columnas\n",
    "            col_ind = [individual for _ in range(f.shape[0])] # llena una columna con el id del individuo\n",
    "            f = f.assign(individual=pd.Series(col_ind).values) # agrega la columna con el nombre (al final)\n",
    "            new_order = [-1, 0, 1, 2, 3]\n",
    "            f = f[f.columns[new_order]] # reordenamos las columnas para que el nombre al principio\n",
    "\n",
    "            #preparamos los datos con el formato final\n",
    "            new_columns = ['individual'] # el nombre del individuo al principio\n",
    "            new_columns.extend(crear_columnas(f.shape[0])) #creamos tantas columnas como landmarks tenga el individuo (x Cantidad de dimensiones)\n",
    "            landmarks = concatenar_landmarks3(f, individual) #obtenemos los valores de los landmarks (x,y,z)\n",
    "            if data is None:\n",
    "                data = pd.DataFrame(data=landmarks, columns=new_columns) #La primera vez partimos de un DataFrame final inexistente. Lo creamos y cargamos los primeros datos\n",
    "            else:\n",
    "                data = data.append(pd.DataFrame(data=landmarks, columns=new_columns)) #si el DataFrame final ya existía, agregamos los datos nuevos.\n",
    "    \n",
    "    if data is None:\n",
    "        print('No hay archivos .pts en {}. Por favor, utiliza un directorio válido.'.format(base_path))\n",
    "    else:        \n",
    "        data.to_csv(base_path+out_name, index=None)\n",
    "        print('Datos guardados en {}'.format(base_path+out_name))\n",
    "        return data"
   ]
  },
  {
   "cell_type": "code",
   "execution_count": 34,
   "metadata": {},
   "outputs": [
    {
     "name": "stdout",
     "output_type": "stream",
     "text": [
      "Datos guardados en test_files/pts_files/output.csv\n"
     ]
    },
    {
     "data": {
      "text/html": [
       "<div>\n",
       "<style scoped>\n",
       "    .dataframe tbody tr th:only-of-type {\n",
       "        vertical-align: middle;\n",
       "    }\n",
       "\n",
       "    .dataframe tbody tr th {\n",
       "        vertical-align: top;\n",
       "    }\n",
       "\n",
       "    .dataframe thead th {\n",
       "        text-align: right;\n",
       "    }\n",
       "</style>\n",
       "<table border=\"1\" class=\"dataframe\">\n",
       "  <thead>\n",
       "    <tr style=\"text-align: right;\">\n",
       "      <th></th>\n",
       "      <th>individual</th>\n",
       "      <th>x1</th>\n",
       "      <th>y1</th>\n",
       "      <th>z1</th>\n",
       "      <th>x2</th>\n",
       "      <th>y2</th>\n",
       "      <th>z2</th>\n",
       "      <th>x3</th>\n",
       "      <th>y3</th>\n",
       "      <th>z3</th>\n",
       "      <th>...</th>\n",
       "      <th>z38</th>\n",
       "      <th>x39</th>\n",
       "      <th>y39</th>\n",
       "      <th>z39</th>\n",
       "      <th>x40</th>\n",
       "      <th>y40</th>\n",
       "      <th>z40</th>\n",
       "      <th>x41</th>\n",
       "      <th>y41</th>\n",
       "      <th>z41</th>\n",
       "    </tr>\n",
       "  </thead>\n",
       "  <tbody>\n",
       "    <tr>\n",
       "      <th>0</th>\n",
       "      <td>325</td>\n",
       "      <td>5.324964</td>\n",
       "      <td>4.245402</td>\n",
       "      <td>35.801582</td>\n",
       "      <td>5.151456</td>\n",
       "      <td>-29.399679</td>\n",
       "      <td>52.296288</td>\n",
       "      <td>5.359242</td>\n",
       "      <td>-35.592625</td>\n",
       "      <td>48.947098</td>\n",
       "      <td>...</td>\n",
       "      <td>37.209084</td>\n",
       "      <td>-18.262831</td>\n",
       "      <td>-63.694931</td>\n",
       "      <td>21.245277</td>\n",
       "      <td>6.577489</td>\n",
       "      <td>-62.049553</td>\n",
       "      <td>33.207909</td>\n",
       "      <td>6.926522</td>\n",
       "      <td>-63.667809</td>\n",
       "      <td>34.941536</td>\n",
       "    </tr>\n",
       "    <tr>\n",
       "      <th>0</th>\n",
       "      <td>326</td>\n",
       "      <td>-20.303030</td>\n",
       "      <td>21.241570</td>\n",
       "      <td>60.173042</td>\n",
       "      <td>-17.922991</td>\n",
       "      <td>-19.947447</td>\n",
       "      <td>83.200829</td>\n",
       "      <td>-17.992428</td>\n",
       "      <td>-25.709305</td>\n",
       "      <td>78.914078</td>\n",
       "      <td>...</td>\n",
       "      <td>64.104263</td>\n",
       "      <td>-43.912270</td>\n",
       "      <td>-50.524010</td>\n",
       "      <td>46.190948</td>\n",
       "      <td>-18.300264</td>\n",
       "      <td>-48.979000</td>\n",
       "      <td>61.418076</td>\n",
       "      <td>-18.064859</td>\n",
       "      <td>-50.810741</td>\n",
       "      <td>60.635811</td>\n",
       "    </tr>\n",
       "    <tr>\n",
       "      <th>0</th>\n",
       "      <td>327</td>\n",
       "      <td>5.011319</td>\n",
       "      <td>51.302269</td>\n",
       "      <td>40.239456</td>\n",
       "      <td>8.393121</td>\n",
       "      <td>3.565066</td>\n",
       "      <td>56.927658</td>\n",
       "      <td>7.979037</td>\n",
       "      <td>-1.642891</td>\n",
       "      <td>51.261314</td>\n",
       "      <td>...</td>\n",
       "      <td>37.441040</td>\n",
       "      <td>-19.627626</td>\n",
       "      <td>-25.597197</td>\n",
       "      <td>20.893188</td>\n",
       "      <td>4.677782</td>\n",
       "      <td>-24.450739</td>\n",
       "      <td>33.279850</td>\n",
       "      <td>4.459326</td>\n",
       "      <td>-26.234285</td>\n",
       "      <td>32.087830</td>\n",
       "    </tr>\n",
       "  </tbody>\n",
       "</table>\n",
       "<p>3 rows × 124 columns</p>\n",
       "</div>"
      ],
      "text/plain": [
       "  individual         x1         y1         z1         x2         y2  \\\n",
       "0        325   5.324964   4.245402  35.801582   5.151456 -29.399679   \n",
       "0        326 -20.303030  21.241570  60.173042 -17.922991 -19.947447   \n",
       "0        327   5.011319  51.302269  40.239456   8.393121   3.565066   \n",
       "\n",
       "          z2         x3         y3         z3    ...            z38  \\\n",
       "0  52.296288   5.359242 -35.592625  48.947098    ...      37.209084   \n",
       "0  83.200829 -17.992428 -25.709305  78.914078    ...      64.104263   \n",
       "0  56.927658   7.979037  -1.642891  51.261314    ...      37.441040   \n",
       "\n",
       "         x39        y39        z39        x40        y40        z40  \\\n",
       "0 -18.262831 -63.694931  21.245277   6.577489 -62.049553  33.207909   \n",
       "0 -43.912270 -50.524010  46.190948 -18.300264 -48.979000  61.418076   \n",
       "0 -19.627626 -25.597197  20.893188   4.677782 -24.450739  33.279850   \n",
       "\n",
       "         x41        y41        z41  \n",
       "0   6.926522 -63.667809  34.941536  \n",
       "0 -18.064859 -50.810741  60.635811  \n",
       "0   4.459326 -26.234285  32.087830  \n",
       "\n",
       "[3 rows x 124 columns]"
      ]
     },
     "execution_count": 34,
     "metadata": {},
     "output_type": "execute_result"
    }
   ],
   "source": [
    "base_path = 'test_files/pts_files/'\n",
    "out_name = 'output.csv'\n",
    "fnames = os.listdir(base_path)\n",
    "fnames.sort()\n",
    "process_pts_files(base_path, fnames, out_name)"
   ]
  },
  {
   "cell_type": "code",
   "execution_count": null,
   "metadata": {},
   "outputs": [],
   "source": []
  }
 ],
 "metadata": {
  "kernelspec": {
   "display_name": "Python 3",
   "language": "python",
   "name": "python3"
  },
  "language_info": {
   "codemirror_mode": {
    "name": "ipython",
    "version": 3
   },
   "file_extension": ".py",
   "mimetype": "text/x-python",
   "name": "python",
   "nbconvert_exporter": "python",
   "pygments_lexer": "ipython3",
   "version": "3.7.0"
  }
 },
 "nbformat": 4,
 "nbformat_minor": 2
}
